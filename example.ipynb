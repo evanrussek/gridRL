{
 "cells": [
  {
   "cell_type": "code",
   "execution_count": 30,
   "metadata": {
    "collapsed": false
   },
   "outputs": [],
   "source": [
    "import numpy as np\n",
    "import random\n",
    "#import itertools\n",
    "import scipy.misc\n",
    "\n",
    "import matplotlib\n",
    "#matplotlib.use('qt5agg')\n",
    "import matplotlib.pyplot as plt\n",
    "\n",
    "#%matplotlib notebook\n",
    "%matplotlib qt \n",
    "#%matplotlib inline \n",
    "import time\n",
    "\n",
    "# gridworldclass that we made\n",
    "from gridworldclass import gameEnv\n",
    "from Agents import SRTD_agent, TDagent\n",
    "\n",
    "plt.close('all')"
   ]
  },
  {
   "cell_type": "code",
   "execution_count": 43,
   "metadata": {
    "collapsed": false
   },
   "outputs": [
    {
     "name": "stderr",
     "output_type": "stream",
     "text": [
      "/Users/evanrussek/anaconda/lib/python3.5/site-packages/matplotlib/pyplot.py:516: RuntimeWarning: More than 20 figures have been opened. Figures created through the pyplot interface (`matplotlib.pyplot.figure`) are retained until explicitly closed and may consume too much memory. (To control this warning, see the rcParam `figure.max_open_warning`).\n",
      "  max_open_warning, RuntimeWarning)\n"
     ]
    }
   ],
   "source": [
    "# make game environment\n",
    "wall_x = np.array([2,2,2,2,3,4,5,6,6,6,6])\n",
    "wall_y = np.array([5,4,3,2,2,2,2,2,3,4,5])\n",
    "wall_loc = np.array([wall_y, wall_x]).T\n",
    "\n",
    "nrows = 10 # number of rows in grid (0 to n-1)\n",
    "ncols = 10 # number of cols in grid (0 to n-1)\n",
    "reward_loc = np.array([[4,4]]) # reward location - give one row for each reward\n",
    "reward_mag = np.array([2]) # reward mag - give one value for each reward\n",
    "start_pos = np.array([1,2]) # starting position of agent on each episode (row,col)\n",
    "env = gameEnv(nrows,ncols,reward_loc, reward_mag,wall_loc, start_pos) # make game environment\n",
    "f,(ax1) = plt.subplots(1) # plot environment\n",
    "env.render(ax1)"
   ]
  },
  {
   "cell_type": "code",
   "execution_count": 42,
   "metadata": {
    "collapsed": false
   },
   "outputs": [
    {
     "name": "stdout",
     "output_type": "stream",
     "text": [
      "/Users/evanrussek/codeprojects/gridRL/res_fold/SR_gamma0.0.csv\n",
      "/Users/evanrussek/codeprojects/gridRL/res_fold/SR_gamma0.05.csv\n",
      "/Users/evanrussek/codeprojects/gridRL/res_fold/SR_gamma0.1.csv\n",
      "/Users/evanrussek/codeprojects/gridRL/res_fold/SR_gamma0.15.csv\n",
      "/Users/evanrussek/codeprojects/gridRL/res_fold/SR_gamma0.2.csv\n",
      "/Users/evanrussek/codeprojects/gridRL/res_fold/SR_gamma0.25.csv\n",
      "/Users/evanrussek/codeprojects/gridRL/res_fold/SR_gamma0.3.csv\n",
      "/Users/evanrussek/codeprojects/gridRL/res_fold/SR_gamma0.35.csv\n",
      "/Users/evanrussek/codeprojects/gridRL/res_fold/SR_gamma0.4.csv\n",
      "/Users/evanrussek/codeprojects/gridRL/res_fold/SR_gamma0.45.csv\n",
      "/Users/evanrussek/codeprojects/gridRL/res_fold/SR_gamma0.5.csv\n",
      "/Users/evanrussek/codeprojects/gridRL/res_fold/SR_gamma0.55.csv\n",
      "/Users/evanrussek/codeprojects/gridRL/res_fold/SR_gamma0.6.csv\n",
      "/Users/evanrussek/codeprojects/gridRL/res_fold/SR_gamma0.65.csv\n",
      "/Users/evanrussek/codeprojects/gridRL/res_fold/SR_gamma0.7.csv\n",
      "/Users/evanrussek/codeprojects/gridRL/res_fold/SR_gamma0.75.csv\n",
      "/Users/evanrussek/codeprojects/gridRL/res_fold/SR_gamma0.8.csv\n",
      "/Users/evanrussek/codeprojects/gridRL/res_fold/SR_gamma0.85.csv\n",
      "/Users/evanrussek/codeprojects/gridRL/res_fold/SR_gamma0.9.csv\n",
      "/Users/evanrussek/codeprojects/gridRL/res_fold/SR_gamma0.95.csv\n",
      "/Users/evanrussek/codeprojects/gridRL/res_fold/SR_gamma0.999999999999.csv\n"
     ]
    },
    {
     "name": "stderr",
     "output_type": "stream",
     "text": [
      "/Users/evanrussek/anaconda/lib/python3.5/site-packages/matplotlib/pyplot.py:516: RuntimeWarning: More than 20 figures have been opened. Figures created through the pyplot interface (`matplotlib.pyplot.figure`) are retained until explicitly closed and may consume too much memory. (To control this warning, see the rcParam `figure.max_open_warning`).\n",
      "  max_open_warning, RuntimeWarning)\n"
     ]
    }
   ],
   "source": [
    "plt.close(\"all\")\n",
    "# make policy matrix -  contains p(action col| in state row)\n",
    "nstates = env.nrows*env.ncols\n",
    "pol_mtx = .25*np.ones([nstates,4])\n",
    "    \n",
    "# make Tstate-state\n",
    "Tss = env.make_Tss(pol_mtx)\n",
    "\n",
    "path = '/Users/evanrussek/codeprojects/gridRL/res_fold'\n",
    "\n",
    "gamma_list = np.arange(0,1.05,.05)\n",
    "for i in range(len(gamma_list)):\n",
    "    gamma = gamma_list[i]\n",
    "    if gamma > 0.99:\n",
    "        gamma = .999999999999\n",
    "        \n",
    "    name = path + '/SR_gamma' + str(gamma) + '.csv'\n",
    "    print(name)\n",
    "    M = env.make_SR(Tss,gamma)\n",
    "    env.make_csv(M, name)\n",
    "    f,(ax1) = plt.subplots(1)\n",
    "    env.render_mtx(M,ax1)\n",
    "\n",
    "# print both to csv\n",
    "env.make_csv(Tss,path + '/T_rand.csv')\n",
    "env.make_csv(M, \"M_rand.csv\")\n",
    "\n",
    "# make some plots\n",
    "f,(ax1, ax2, ax3, ax4) = plt.subplots(4)\n",
    "env.render_mtx(Tss,ax1)\n",
    "env.render_mtx_row(Tss,env.start_state,ax2)\n",
    "    \n",
    "env.render_mtx(M,ax3)\n",
    "env.render_mtx_row(M,env.start_state,ax4)\n",
    "    \n"
   ]
  },
  {
   "cell_type": "code",
   "execution_count": 38,
   "metadata": {
    "collapsed": false
   },
   "outputs": [
    {
     "data": {
      "text/plain": [
       "array([[ 112366.77847863,  112364.83345586,  112363.68171628, ...,\n",
       "         112358.05579759,  112358.02934755,  112358.01769067],\n",
       "       [ 112364.83345586,  112365.71554674,  112364.21802692, ...,\n",
       "         112358.05578754,  112358.03991449,  112358.03372392],\n",
       "       [ 112363.68171628,  112364.21802692,  112365.49303257, ...,\n",
       "         112358.06166748,  112358.06695115,  112358.07169488],\n",
       "       ..., \n",
       "       [ 112358.05579759,  112358.05578754,  112358.06166748, ...,\n",
       "         112363.17035151,  112362.12728221,  112361.7292408 ],\n",
       "       [ 112358.02934755,  112358.03991449,  112358.06695115, ...,\n",
       "         112362.12728221,  112363.7192438 ,  112362.90903079],\n",
       "       [ 112358.01769067,  112358.03372392,  112358.07169488, ...,\n",
       "         112361.7292408 ,  112362.90903079,  112364.89289054]])"
      ]
     },
     "execution_count": 38,
     "metadata": {},
     "output_type": "execute_result"
    }
   ],
   "source": [
    "env.make_SR(Tss,.9999999)"
   ]
  },
  {
   "cell_type": "code",
   "execution_count": 142,
   "metadata": {
    "collapsed": false
   },
   "outputs": [
    {
     "data": {
      "image/png": "[encoded data removed]",
      "text/plain": [
       "<matplotlib.figure.Figure at 0x140e542e8>"
      ]
     },
     "metadata": {},
     "output_type": "display_data"
    }
   ],
   "source": [
    "# detour task environment\n",
    "x1 = np.arange(1,9)\n",
    "y1 = 4*np.ones(x1.shape)\n",
    "\n",
    "x2 = np.arange(1,9)\n",
    "y2 = 2*np.ones(x3.shape)\n",
    "\n",
    "x3 = np.arange(1,9)\n",
    "y3 = 8*np.ones(x3.shape)\n",
    "\n",
    "x4 = np.arange(1,9)\n",
    "y4 = 7*np.ones(x3.shape)\n",
    "\n",
    "x5 = np.arange(1,9)\n",
    "y5 = 6*np.ones(x3.shape)\n",
    "\n",
    "x6 = np.arange(1,9)\n",
    "y6 = 5*np.ones(x3.shape)\n",
    "\n",
    "x7 = np.arange(1,9)\n",
    "y7 = 4*np.ones(x3.shape)\n",
    "\n",
    "wall_x = np.concatenate([x1, x2,x3,x4, x5, x6, x7]);\n",
    "wall_y = np.concatenate([y1, y2,y3, y4 , y5, y6, y7]);\n",
    "\n",
    "wall_loc = np.array([wall_y, wall_x]).T\n",
    "\n",
    "nrows = 10 # number of rows in grid (0 to n-1)\n",
    "ncols = 10 # number of cols in grid (0 to n-1)\n",
    "reward_loc = np.array([[3,9]]) # reward location - give one row for each reward\n",
    "reward_mag = np.array([1]) # reward mag - give one value for each reward\n",
    "start_pos = np.array([3,0]) # starting position of agent on each episode (row,col)\n",
    "env2 = gameEnv(nrows,ncols,reward_loc, reward_mag,wall_loc, start_pos) # make game env\n",
    "\n",
    "f,(ax1) = plt.subplots(1) # plot environment\n",
    "env2.render(ax1)"
   ]
  },
  {
   "cell_type": "code",
   "execution_count": 15,
   "metadata": {
    "collapsed": true
   },
   "outputs": [],
   "source": [
    "gamma_list = np.arange(0,1.05,.05)"
   ]
  },
  {
   "cell_type": "code",
   "execution_count": 16,
   "metadata": {
    "collapsed": false
   },
   "outputs": [
    {
     "data": {
      "text/plain": [
       "array([ 0.  ,  0.05,  0.1 ,  0.15,  0.2 ,  0.25,  0.3 ,  0.35,  0.4 ,\n",
       "        0.45,  0.5 ,  0.55,  0.6 ,  0.65,  0.7 ,  0.75,  0.8 ,  0.85,\n",
       "        0.9 ,  0.95,  1.  ])"
      ]
     },
     "execution_count": 16,
     "metadata": {},
     "output_type": "execute_result"
    }
   ],
   "source": [
    "gamma_list"
   ]
  },
  {
   "cell_type": "code",
   "execution_count": null,
   "metadata": {
    "collapsed": true
   },
   "outputs": [],
   "source": []
  }
 ],
 "metadata": {
  "anaconda-cloud": {},
  "kernelspec": {
   "display_name": "Python [conda root]",
   "language": "python",
   "name": "conda-root-py"
  },
  "language_info": {
   "codemirror_mode": {
    "name": "ipython",
    "version": 3
   },
   "file_extension": ".py",
   "mimetype": "text/x-python",
   "name": "python",
   "nbconvert_exporter": "python",
   "pygments_lexer": "ipython3",
   "version": "3.5.2"
  }
 },
 "nbformat": 4,
 "nbformat_minor": 1
}
