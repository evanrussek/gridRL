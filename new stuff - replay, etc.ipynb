{
 "cells": [
  {
   "cell_type": "code",
   "execution_count": 1,
   "metadata": {},
   "outputs": [],
   "source": [
    "import numpy as np\n",
    "import random\n",
    "import itertools\n",
    "import scipy.misc\n",
    "import matplotlib.pyplot as plt\n",
    "import pandas as pd\n",
    "\n"
   ]
  },
  {
   "cell_type": "code",
   "execution_count": 59,
   "metadata": {},
   "outputs": [
    {
     "ename": "SyntaxError",
     "evalue": "invalid syntax (<ipython-input-59-b1e34e3dcf62>, line 27)",
     "output_type": "error",
     "traceback": [
      "\u001b[1;36m  File \u001b[1;32m\"<ipython-input-59-b1e34e3dcf62>\"\u001b[1;36m, line \u001b[1;32m27\u001b[0m\n\u001b[1;33m    Rsas sas = np.zeros(nstates,nactions,nstates)\u001b[0m\n\u001b[1;37m           ^\u001b[0m\n\u001b[1;31mSyntaxError\u001b[0m\u001b[1;31m:\u001b[0m invalid syntax\n"
     ]
    }
   ],
   "source": [
    "nstates = 8\n",
    "nactions = 2\n",
    "\n",
    "\n",
    "# build T and R for a simple 2 stage choice task\n",
    "\n",
    "Tsas = np.zeros([nstates,nactions,nstates]) \n",
    "\n",
    "avail_actions = np.array([[0,1],[2,3],[4,5],[6],[7],[8],[9],[]])\n",
    "next_states = np.array([1,2,3,4,5,6,7,7,7,7])\n",
    "n_total_actions = 10\n",
    "\n",
    "T_2d = np.zeros([n_total_actions, nstates])\n",
    "for i in np.arange(n_total_actions):\n",
    "    T_2d[i,next_states[i]] = 1\n",
    "    \n",
    "for s in np.arange(nstates):\n",
    "    this_state_options = avail_actions[s]\n",
    "    this_state_probs = T_2d[this_state_options,:]\n",
    "    Tsas[s,0:np.size(this_state_options),:] = this_state_probs\n",
    "    \n",
    "\n",
    "# number of available actions per state\n",
    "nActions = np.array([2,2,2,1,1,1,0])\n",
    "\n",
    "Rs = np.array([0,0,0,-10, 5, 3, 2])\n",
    "Rsas sas = np.zeros(nstates,nactions,nstates)"
   ]
  },
  {
   "cell_type": "code",
   "execution_count": null,
   "metadata": {},
   "outputs": [],
   "source": []
  },
  {
   "cell_type": "code",
   "execution_count": null,
   "metadata": {},
   "outputs": [],
   "source": []
  },
  {
   "cell_type": "code",
   "execution_count": null,
   "metadata": {},
   "outputs": [],
   "source": []
  }
 ],
 "metadata": {
  "kernelspec": {
   "display_name": "Python 3",
   "language": "python",
   "name": "python3"
  },
  "language_info": {
   "codemirror_mode": {
    "name": "ipython",
    "version": 3
   },
   "file_extension": ".py",
   "mimetype": "text/x-python",
   "name": "python",
   "nbconvert_exporter": "python",
   "pygments_lexer": "ipython3",
   "version": "3.7.0"
  }
 },
 "nbformat": 4,
 "nbformat_minor": 2
}
