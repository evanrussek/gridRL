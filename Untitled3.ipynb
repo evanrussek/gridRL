{
 "cells": [
  {
   "cell_type": "markdown",
   "metadata": {},
   "source": [
    "The sequence:\n",
    "\n",
    "$I + Tdiag(e^{R}) + Tdiag(e^{R})^{2} + Tdiag(e^{R})^{3} + ...$\n",
    "\n",
    "converges to $(diag(e^{-R}) - T)^{-1}$"
   ]
  },
  {
   "cell_type": "markdown",
   "metadata": {},
   "source": [
    "Explanation:\n",
    "\n",
    "Let\n",
    "\n",
    "$Sn = (Tdiag(e^{R}))^{0} + (Tdiag(e^{R}))^{1} + ... + (Tdiag(e^{R}))^{n-1}$\n",
    "\n",
    "\n",
    "In general,\n",
    "\n",
    "$ Sn = (diag(e^{-R}) - T)^{-1} \\cdot (diag(e^{-R}) - T^{n}diag(e^{(n-1)R}))$\n"
   ]
  },
  {
   "cell_type": "markdown",
   "metadata": {},
   "source": [
    "For example, consider S3 \n",
    "\n",
    "$S3 = I + Tdiag(e^{R}) + (Tdiag(e^{R}))^{2}$\n"
   ]
  },
  {
   "cell_type": "markdown",
   "metadata": {},
   "source": [
    "now multiply by $(diag(e^{-R}) - T)$ and it's inverse:\n",
    "\n",
    "$   = (diag(e^{-R}) - T)^{-1} \\cdot (diag(e^{-R}) - T) \\cdot (I + Tdiag(e^{R}) + T^{2}diag(e^{2R}))$"
   ]
  },
  {
   "cell_type": "markdown",
   "metadata": {},
   "source": [
    "move $(diag(e^{-R}) - T)$ into the expression on the right:\n",
    "\n",
    "$   = (diag(e^{-R}) - T)^{-1} \\cdot ((diag(e^{-R}) - T)I + (diag(e^{-R}) - T)Tdiag(e^{R}) + (diag(e^{-R}) - T)T^{2}diag(e^{2R})))$"
   ]
  },
  {
   "cell_type": "markdown",
   "metadata": {},
   "source": [
    "multiply terms on right:\n",
    "\n",
    "$ = (diag(e^{-R}) - T)^{-1} \\cdot (diag(e^{-R}) - T  + diag(e^{-R})Tdiag(e^{R}) - TTdiag(e^{R}) + diag(e^{-R})T^{2}diag(e^{2R}) - TT^{2}diag(e^{2R}))$\n",
    "\n"
   ]
  },
  {
   "cell_type": "markdown",
   "metadata": {},
   "source": [
    "\n"
   ]
  },
  {
   "cell_type": "markdown",
   "metadata": {},
   "source": [
    "Clean this up:\n",
    "\n",
    "$ = (diag(e^{-R}) - T)^{-1} \\cdot (diag(e^{-R}) - T  + T - T^{2}diag(e^{R}) + T^{2}diag(e^{R}) - T^{3}diag(e^{2R}))$\n",
    "\n"
   ]
  },
  {
   "cell_type": "markdown",
   "metadata": {},
   "source": [
    "Add neighboring terms: \n",
    "\n",
    "$ = (diag(e^{-R}) - T)^{-1} \\cdot (diag(e^{-R}) - T^{3}diag(e^{2R}))$"
   ]
  },
  {
   "cell_type": "markdown",
   "metadata": {},
   "source": [
    "So,\n",
    "\n",
    "$ Sn = (diag(e^{-R}) - T)^{-1} \\cdot (diag(e^{-R}) - T^{n}diag(e^{(n-1)R}))$\n",
    "\n",
    "as n goes to infinity, $(diag(e^{-R}) - T^{n}diag(e^{(n-1)R}))$ tends toward 0, so\n",
    "\n",
    "\n",
    "$Sn = (diag(e^{-R}) - T)^{-1} $"
   ]
  }
 ],
 "metadata": {
  "kernelspec": {
   "display_name": "Python 3",
   "language": "python",
   "name": "python3"
  },
  "language_info": {
   "codemirror_mode": {
    "name": "ipython",
    "version": 3
   },
   "file_extension": ".py",
   "mimetype": "text/x-python",
   "name": "python",
   "nbconvert_exporter": "python",
   "pygments_lexer": "ipython3",
   "version": "3.7.4"
  }
 },
 "nbformat": 4,
 "nbformat_minor": 4
}
