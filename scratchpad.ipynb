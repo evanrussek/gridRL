{
 "cells": [
  {
   "cell_type": "code",
   "execution_count": 1,
   "metadata": {},
   "outputs": [
    {
     "ename": "NameError",
     "evalue": "name 'np' is not defined",
     "output_type": "error",
     "traceback": [
      "\u001b[1;31m---------------------------------------------------------------------------\u001b[0m",
      "\u001b[1;31mNameError\u001b[0m                                 Traceback (most recent call last)",
      "\u001b[1;32m<ipython-input-1-53c862d8a1b1>\u001b[0m in \u001b[0;36m<module>\u001b[1;34m()\u001b[0m\n\u001b[0;32m      7\u001b[0m \u001b[1;31m# build T and R for a simple 2 stage choice task\u001b[0m\u001b[1;33m\u001b[0m\u001b[1;33m\u001b[0m\u001b[0m\n\u001b[0;32m      8\u001b[0m \u001b[1;33m\u001b[0m\u001b[0m\n\u001b[1;32m----> 9\u001b[1;33m \u001b[0mTsas\u001b[0m \u001b[1;33m=\u001b[0m \u001b[0mnp\u001b[0m\u001b[1;33m.\u001b[0m\u001b[0mzeros\u001b[0m\u001b[1;33m(\u001b[0m\u001b[1;33m[\u001b[0m\u001b[0mn_states\u001b[0m\u001b[1;33m,\u001b[0m\u001b[0mn_actions_max\u001b[0m\u001b[1;33m,\u001b[0m\u001b[0mn_states\u001b[0m\u001b[1;33m]\u001b[0m\u001b[1;33m)\u001b[0m\u001b[1;33m\u001b[0m\u001b[0m\n\u001b[0m\u001b[0;32m     10\u001b[0m \u001b[1;33m\u001b[0m\u001b[0m\n\u001b[0;32m     11\u001b[0m \u001b[0mavail_actions\u001b[0m \u001b[1;33m=\u001b[0m \u001b[0mnp\u001b[0m\u001b[1;33m.\u001b[0m\u001b[0marray\u001b[0m\u001b[1;33m(\u001b[0m\u001b[1;33m[\u001b[0m\u001b[1;33m[\u001b[0m\u001b[1;36m0\u001b[0m\u001b[1;33m,\u001b[0m\u001b[1;36m1\u001b[0m\u001b[1;33m]\u001b[0m\u001b[1;33m,\u001b[0m\u001b[1;33m[\u001b[0m\u001b[1;36m2\u001b[0m\u001b[1;33m,\u001b[0m\u001b[1;36m3\u001b[0m\u001b[1;33m]\u001b[0m\u001b[1;33m,\u001b[0m\u001b[1;33m[\u001b[0m\u001b[1;36m4\u001b[0m\u001b[1;33m,\u001b[0m\u001b[1;36m5\u001b[0m\u001b[1;33m]\u001b[0m\u001b[1;33m,\u001b[0m\u001b[1;33m[\u001b[0m\u001b[1;36m6\u001b[0m\u001b[1;33m]\u001b[0m\u001b[1;33m,\u001b[0m\u001b[1;33m[\u001b[0m\u001b[1;36m7\u001b[0m\u001b[1;33m]\u001b[0m\u001b[1;33m,\u001b[0m\u001b[1;33m[\u001b[0m\u001b[1;36m8\u001b[0m\u001b[1;33m]\u001b[0m\u001b[1;33m,\u001b[0m\u001b[1;33m[\u001b[0m\u001b[1;36m9\u001b[0m\u001b[1;33m]\u001b[0m\u001b[1;33m,\u001b[0m\u001b[1;33m[\u001b[0m\u001b[1;33m]\u001b[0m\u001b[1;33m]\u001b[0m\u001b[1;33m)\u001b[0m\u001b[1;33m\u001b[0m\u001b[0m\n",
      "\u001b[1;31mNameError\u001b[0m: name 'np' is not defined"
     ]
    }
   ],
   "source": [
    "# useful for saving cells\n",
    "\n",
    "n_states = 8\n",
    "n_actions_max = 2\n",
    "\n",
    "\n",
    "# build T and R for a simple 2 stage choice task\n",
    "\n",
    "Tsas = np.zeros([n_states,n_actions_max,n_states]) \n",
    "\n",
    "avail_actions = np.array([[0,1],[2,3],[4,5],[6],[7],[8],[9],[]])\n",
    "next_states = np.array([1,2,3,4,5,6,7,7,7,7])\n",
    "n_total_actions = 10\n",
    "\n",
    "T_2d = np.zeros([n_total_actions, n_states])\n",
    "for i in np.arange(n_total_actions):\n",
    "    T_2d[i,next_states[i]] = 1\n",
    "    \n",
    "for s in np.arange(n_states):\n",
    "    this_state_options = avail_actions[s]\n",
    "    this_state_probs = T_2d[this_state_options,:]\n",
    "    Tsas[s,0:np.size(this_state_options),:] = this_state_probs\n",
    "    \n",
    "\n",
    "# number of available actions per state\n",
    "n_actions = np.array([2,2,2,1,1,1,1,0])\n",
    "\n",
    "Rs = np.array([0,0,0,-10, 5, 3, 2,0])\n",
    "Rsas = np.zeros([n_states,n_actions_max,n_states])\n",
    "\n",
    "# get the reward when you leave the state\n",
    "for s in np.arange(n_states):\n",
    "    Rsas[s,:,:] = Rs[s]\n",
    "\n",
    "terminal_states = np.array([7])\n",
    "\n",
    "exmdp = MDP(n_states,n_actions,Rsas,Tsas,terminal_states)\n",
    "\n",
    "params = {'beta': .1, 'alpha_q': 1, 'gamma': 1}\n",
    "\n",
    "qag = Qagent(params, n_states, n_actions, avail_actions, Tsas = Tsas, Rsas = Rsas)\n",
    "\n",
    "print(qag.Rsa)\n"
   ]
  },
  {
   "cell_type": "code",
   "execution_count": null,
   "metadata": {},
   "outputs": [],
   "source": []
  }
 ],
 "metadata": {
  "kernelspec": {
   "display_name": "Python 3",
   "language": "python",
   "name": "python3"
  },
  "language_info": {
   "codemirror_mode": {
    "name": "ipython",
    "version": 3
   },
   "file_extension": ".py",
   "mimetype": "text/x-python",
   "name": "python",
   "nbconvert_exporter": "python",
   "pygments_lexer": "ipython3",
   "version": "3.7.0"
  }
 },
 "nbformat": 4,
 "nbformat_minor": 2
}
