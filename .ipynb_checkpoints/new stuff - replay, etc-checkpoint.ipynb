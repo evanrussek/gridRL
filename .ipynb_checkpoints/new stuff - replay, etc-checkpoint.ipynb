{
 "cells": [
  {
   "cell_type": "code",
   "execution_count": 87,
   "metadata": {},
   "outputs": [],
   "source": [
    "import numpy as np\n",
    "import numpy.random as nr\n",
    "import itertools\n",
    "import scipy.misc\n",
    "import matplotlib.pyplot as plt\n",
    "import pandas as pd\n",
    "\n"
   ]
  },
  {
   "cell_type": "code",
   "execution_count": 120,
   "metadata": {},
   "outputs": [],
   "source": [
    "nstates = 8\n",
    "nactions_max = 2\n",
    "\n",
    "\n",
    "# build T and R for a simple 2 stage choice task\n",
    "\n",
    "Tsas = np.zeros([nstates,nactions_max,nstates]) \n",
    "\n",
    "avail_actions = np.array([[0,1],[2,3],[4,5],[6],[7],[8],[9],[]])\n",
    "next_states = np.array([1,2,3,4,5,6,7,7,7,7])\n",
    "n_total_actions = 10\n",
    "\n",
    "T_2d = np.zeros([n_total_actions, nstates])\n",
    "for i in np.arange(n_total_actions):\n",
    "    T_2d[i,next_states[i]] = 1\n",
    "    \n",
    "for s in np.arange(nstates):\n",
    "    this_state_options = avail_actions[s]\n",
    "    this_state_probs = T_2d[this_state_options,:]\n",
    "    Tsas[s,0:np.size(this_state_options),:] = this_state_probs\n",
    "    \n",
    "\n",
    "# number of available actions per state\n",
    "nactions = np.array([2,2,2,1,1,1,1,0])\n",
    "\n",
    "Rs = np.array([0,0,0,-10, 5, 3, 2,0])\n",
    "Rsas = np.zeros([nstates,nactions_max,nstates])\n",
    "\n",
    "# get the reward when you leave the state\n",
    "for s in np.arange(nstates):\n",
    "    Rsas[s,:,:] = Rs[s]\n",
    "\n",
    "terminal_states = np.array([7])"
   ]
  },
  {
   "cell_type": "code",
   "execution_count": 139,
   "metadata": {},
   "outputs": [],
   "source": [
    "class MDP():\n",
    "    def __init__(self,nstates,nactions,Rsas, Tsas,terminal_states, start_state = 0):\n",
    "        self.nstates = nstates\n",
    "        self.nactions = nactions\n",
    "        self.Rsas = Rsas;\n",
    "        self.Tsas = Tsas\n",
    "        self.terminal_states = terminal_states\n",
    "        self.start_state = start_state\n",
    "        self.reset(start_state)\n",
    "        \n",
    "    def reset(self, state):\n",
    "        # reset environment (e.g. at end of episode)\n",
    "        self.state = state\n",
    "        return self.state\n",
    "        \n",
    "    def step(self, action):\n",
    "        # take action, produce next state and reward\n",
    "        \n",
    "        done = False\n",
    "        s = self.state\n",
    "        s_prime = nr.choice(np.arange(exmdp.nstates),p=exmdp.Tsas[s,action,:])\n",
    "        r = self.Rsas[s,action,s_prime]\n",
    "        if np.isin(s_prime,self.terminal_states):\n",
    "            done = True\n",
    "        \n",
    "        self.state = s_prime\n",
    "        nchoices = self.nactions[self.state]\n",
    "        \n",
    "        return(self.state, r, nchoices, done)\n",
    "\n"
   ]
  },
  {
   "cell_type": "code",
   "execution_count": 142,
   "metadata": {},
   "outputs": [],
   "source": [
    "def sim_episode(env, choice_vec, max_step):\n",
    "\n",
    "    d = False\n",
    "    j = 0\n",
    "    S = env.reset(env.start_state)\n",
    "\n",
    "    while j < max_step:\n",
    "            \n",
    "        # increase counter\n",
    "        j += 1\n",
    "        \n",
    "        # sample action given by pi for state S\n",
    "        a = choice_vec[j-1]\n",
    "        \n",
    "        # take action A, observe s1, r, terminal?\n",
    "        S_prime,r,nchoices,d = env.step(a)\n",
    "        \n",
    "        print(S,a,r,S_prime)\n",
    "\n",
    "        # update S\n",
    "        S = S_prime;\n",
    "            \n",
    "        if d == True:\n",
    "            break\n",
    "            \n",
    "    return j"
   ]
  },
  {
   "cell_type": "code",
   "execution_count": 143,
   "metadata": {},
   "outputs": [
    {
     "name": "stdout",
     "output_type": "stream",
     "text": [
      "0 0 0.0 1\n",
      "1 0 0.0 3\n",
      "3 0 -10.0 7\n"
     ]
    },
    {
     "data": {
      "text/plain": [
       "3"
      ]
     },
     "execution_count": 143,
     "metadata": {},
     "output_type": "execute_result"
    }
   ],
   "source": [
    "choice_vec = np.array([0,0,0])\n",
    "exmdp = MDP(nstates,nactions,Rsas,Tsas,terminal_states)\n",
    "max_step = 10\n",
    "sim_episode(exmdp, choice_vec, max_step)"
   ]
  },
  {
   "cell_type": "code",
   "execution_count": 127,
   "metadata": {},
   "outputs": [
    {
     "name": "stdout",
     "output_type": "stream",
     "text": [
      "1 0.0 2 False\n",
      "3 0.0 1 False\n",
      "7 -10.0 0 True\n"
     ]
    }
   ],
   "source": [
    "exmdp = MDP(nstates,nactions,Rsas,Tsas,terminal_states)\n",
    "a = 0\n",
    "(s,r,nchoices,done) = exmdp.step(a)\n",
    "print(s,r,nchoices,done)\n",
    "a = 0\n",
    "(s,r,nchoices,done) = exmdp.step(a)\n",
    "print(s,r,nchoices,done)\n",
    "a = 0\n",
    "(s,r,nchoices,done) = exmdp.step(a)\n",
    "print(s,r,nchoices,done)"
   ]
  }
 ],
 "metadata": {
  "kernelspec": {
   "display_name": "Python 3",
   "language": "python",
   "name": "python3"
  },
  "language_info": {
   "codemirror_mode": {
    "name": "ipython",
    "version": 3
   },
   "file_extension": ".py",
   "mimetype": "text/x-python",
   "name": "python",
   "nbconvert_exporter": "python",
   "pygments_lexer": "ipython3",
   "version": "3.7.0"
  }
 },
 "nbformat": 4,
 "nbformat_minor": 2
}
