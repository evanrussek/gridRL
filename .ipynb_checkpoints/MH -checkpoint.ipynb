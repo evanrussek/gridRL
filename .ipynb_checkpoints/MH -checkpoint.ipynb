{
 "cells": [
  {
   "cell_type": "code",
   "execution_count": 1,
   "metadata": {
    "collapsed": true
   },
   "outputs": [],
   "source": [
    "import numpy as np\n",
    "import pymc3 as pm\n",
    "import matplotlib.pyplot as plt\n",
    "from numpy import random as nr\n",
    "\n",
    "%matplotlib inline\n",
    "\n",
    "# gridworldclass that we made\n",
    "from gridworldclass import gameEnv"
   ]
  },
  {
   "cell_type": "code",
   "execution_count": 25,
   "metadata": {
    "collapsed": false
   },
   "outputs": [
    {
     "data": {
      "text/plain": [
       "array([[ 1.,  0.,  0.,  0.]])"
      ]
     },
     "execution_count": 25,
     "metadata": {},
     "output_type": "execute_result"
    }
   ],
   "source": [
    "nr.dirichlet(1000*np.array([1,0,0,0]),size = 1)"
   ]
  },
  {
   "cell_type": "code",
   "execution_count": 54,
   "metadata": {
    "collapsed": false
   },
   "outputs": [
    {
     "data": {
      "text/plain": [
       "array([3, 1, 1, 2])"
      ]
     },
     "execution_count": 54,
     "metadata": {},
     "output_type": "execute_result"
    }
   ],
   "source": [
    "q0 = nr.choice(4,size=4)\n",
    "q0"
   ]
  },
  {
   "cell_type": "code",
   "execution_count": 39,
   "metadata": {
    "collapsed": false
   },
   "outputs": [],
   "source": [
    "k = 4\n",
    "v = 4 # v is number of draws (number of states?)\n",
    "dimcats = []\n",
    "start = len(dimcats)\n",
    "dimcats += [(dim,k) for dim in range(start,start+v)]"
   ]
  },
  {
   "cell_type": "code",
   "execution_count": 51,
   "metadata": {
    "collapsed": false
   },
   "outputs": [
    {
     "data": {
      "text/plain": [
       "[(1, 4), (2, 4), (0, 4), (3, 4)]"
      ]
     },
     "execution_count": 51,
     "metadata": {},
     "output_type": "execute_result"
    }
   ],
   "source": [
    "nr.shuffle(dimcats)\n",
    "dimcats"
   ]
  },
  {
   "cell_type": "code",
   "execution_count": 84,
   "metadata": {
    "collapsed": false
   },
   "outputs": [],
   "source": [
    "q = np.copy(q0)\n",
    "for dim,k in dimcats:\n",
    "    curr_val, q[dim] = q[dim], sample_except(k,q[dim])\n",
    "    logp_prop = logp(q) # get logp of q now\n",
    "    q[dimm],accepted = metrop_select(logp_prop)"
   ]
  },
  {
   "cell_type": "code",
   "execution_count": 57,
   "metadata": {
    "collapsed": true
   },
   "outputs": [],
   "source": [
    "def sample_except(limit, excluded):\n",
    "    candidate = nr.choice(limit - 1)\n",
    "    if candidate >= excluded:\n",
    "        candidate += 1\n",
    "    return candidate"
   ]
  },
  {
   "cell_type": "code",
   "execution_count": 83,
   "metadata": {
    "collapsed": false
   },
   "outputs": [
    {
     "data": {
      "text/plain": [
       "1"
      ]
     },
     "execution_count": 83,
     "metadata": {},
     "output_type": "execute_result"
    }
   ],
   "source": [
    "dim = 1\n",
    "k = 4\n",
    "sample_except(k,q[dim]) # samples other than q[dim]"
   ]
  },
  {
   "cell_type": "code",
   "execution_count": 61,
   "metadata": {
    "collapsed": false
   },
   "outputs": [
    {
     "data": {
      "text/plain": [
       "2"
      ]
     },
     "execution_count": 61,
     "metadata": {},
     "output_type": "execute_result"
    }
   ],
   "source": [
    "    def astep_unif(self, q0, logp):\n",
    "        dimcats = self.dimcats\n",
    "        if self.shuffle_dims:\n",
    "            nr.shuffle(dimcats)\n",
    "\n",
    "        q = np.copy(q0)\n",
    "        logp_curr = logp(q)\n",
    "\n",
    "        for dim, k in dimcats:\n",
    "            curr_val, q[dim] = q[dim], sample_except(k, q[dim])\n",
    "            logp_prop = logp(q)\n",
    "            q[dim], accepted = metrop_select(logp_prop - logp_curr, q[dim], curr_val)\n",
    "            if accepted:\n",
    "                logp_curr = logp_prop\n",
    "        return q"
   ]
  },
  {
   "cell_type": "code",
   "execution_count": 85,
   "metadata": {
    "collapsed": true
   },
   "outputs": [],
   "source": [
    "def metrop_select(mr, q, q0):\n",
    "    \"\"\"Perform rejection/acceptance step for Metropolis class samplers.\n",
    "    Returns the new sample q if a uniform random number is less than the\n",
    "    metropolis acceptance rate (`mr`), and the old sample otherwise, along\n",
    "    with a boolean indicating whether the sample was accepted.\n",
    "    Parameters\n",
    "    ----------\n",
    "    mr : float, Metropolis acceptance rate\n",
    "    q : proposed sample\n",
    "    q0 : current sample\n",
    "    Returns\n",
    "    -------\n",
    "    q or q0\n",
    "    \"\"\"\n",
    "    # Compare acceptance ratio to uniform random number\n",
    "    if np.isfinite(mr) and np.log(uniform()) < mr:\n",
    "        return q, True\n",
    "    else:\n",
    "        return q0, False\n",
    "\n"
   ]
  },
  {
   "cell_type": "code",
   "execution_count": 92,
   "metadata": {
    "collapsed": false
   },
   "outputs": [
    {
     "data": {
      "text/plain": [
       "-0.56116169493771861"
      ]
     },
     "execution_count": 92,
     "metadata": {},
     "output_type": "execute_result"
    }
   ],
   "source": [
    "np.log(nr.uniform())"
   ]
  },
  {
   "cell_type": "code",
   "execution_count": null,
   "metadata": {
    "collapsed": true
   },
   "outputs": [],
   "source": [
    "# loop through every dimension of categorical variable in random order\n",
    "# for each, compute logp"
   ]
  }
 ],
 "metadata": {
  "anaconda-cloud": {},
  "kernelspec": {
   "display_name": "Python [conda root]",
   "language": "python",
   "name": "conda-root-py"
  },
  "language_info": {
   "codemirror_mode": {
    "name": "ipython",
    "version": 3
   },
   "file_extension": ".py",
   "mimetype": "text/x-python",
   "name": "python",
   "nbconvert_exporter": "python",
   "pygments_lexer": "ipython3",
   "version": "3.5.2"
  }
 },
 "nbformat": 4,
 "nbformat_minor": 1
}
