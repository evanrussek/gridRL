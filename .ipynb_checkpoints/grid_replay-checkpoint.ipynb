{
 "cells": [
  {
   "cell_type": "code",
   "execution_count": null,
   "metadata": {},
   "outputs": [],
   "source": [
    "import numpy as np\n",
    "import numpy.random as nr\n",
    "import random\n",
    "#import itertools\n",
    "import scipy.misc\n",
    "\n",
    "import matplotlib\n",
    "import matplotlib.pyplot as plt\n",
    "from scipy.special import logsumexp\n",
    "\n",
    "#%matplotlib notebook\n",
    "#%matplotlib qt \n",
    "%matplotlib inline \n",
    "import time\n",
    "np.set_printoptions(formatter={'float': lambda x: \"{0:0.2f}\".format(x)})\n",
    "\n",
    "\n",
    "from grid_world_new import grid_world\n",
    "from q_agent_class import Qagent"
   ]
  },
  {
   "cell_type": "code",
   "execution_count": null,
   "metadata": {},
   "outputs": [],
   "source": [
    "walls = np.array([[0,0,0,0,0,0,0,0,0],\n",
    "                 [0,0,0,0,0,0,0,0,0],\n",
    "                 [0,0,0,0,0,0,0,0,0],\n",
    "                 [0,0,0,0,0,0,0,0,0],\n",
    "                 [0,0,0,0,0,0,0,0,0],\n",
    "                 [0,0,0,0,0,0,0,0,0],\n",
    "                ])\n",
    "\n",
    "\n",
    "walls = np.array([[0,0,0,0,0,0,0,1,0],\n",
    "                 [0,0,1,0,0,0,0,1,0],\n",
    "                 [0,0,1,0,0,0,0,1,0],\n",
    "                 [0,0,1,0,0,0,0,1,0],\n",
    "                 [0,0,0,0,0,1,0,0,0],\n",
    "                 [0,0,0,0,0,0,0,0,0],\n",
    "                ])\n",
    "\n",
    "\n",
    "\n",
    "\n",
    "rewards = np.array(\n",
    "                [[0,0,0,0,0,0,0,0, -5000],\n",
    "                 [0,0,0,0,0,0,0,0,0],\n",
    "                 [0,0,0,0,0,0,0,0,0],\n",
    "                 [0,0,0,0,0,0,0,0,0],\n",
    "                 [0,0,0,0,0,0,0,0,0],\n",
    "                 [0,0,0,0,0,0,0,0,0],\n",
    "                ])\n",
    "\n",
    "start_state = np.array([2,0])\n",
    "\n",
    "transition_noise = 0.25\n",
    "\n",
    "gw = grid_world(rewards, walls, start_state, transition_noise)\n",
    "f,(ax1) = plt.subplots(1) # plot environment\n",
    "gw.render(ax1)\n",
    "plt.show()"
   ]
  },
  {
   "cell_type": "code",
   "execution_count": null,
   "metadata": {},
   "outputs": [],
   "source": [
    "Tsas = gw.make_Tsas()\n",
    "Rsa = gw.Rsa\n",
    "\n",
    "# make a Q agent starting with these\n",
    "params = {'beta': 50, 'alpha_q': 1, 'gamma': .9}\n",
    "n_states = int(np.size(walls))\n",
    "\n",
    "\n",
    "qag = Qagent(params, n_states, Tsas = Tsas, Rsa = Rsa, grid = True, wall_mtx = walls)\n",
    "\n",
    "for j in range(4):\n",
    "    qag.backup_Q(8,j,reset = True)\n",
    "\n",
    "\n",
    "# store gain of past choices\n",
    "n_runs = 10\n",
    "\n",
    "gain_store = np.zeros([Rsa.shape[0], Rsa.shape[1], n_runs])\n",
    "Qsa_store = np.zeros([Rsa.shape[0], Rsa.shape[1], n_runs])\n",
    "V_store = np.zeros([gw.n_states, n_runs])\n",
    "\n",
    "\n",
    "for i in range(n_runs):\n",
    "    # pre-backup gain\n",
    "    V = np.max(qag.Q_hat,axis = 1)\n",
    "    gain = qag.comp_gain(which_Q_new = 'full')\n",
    "    winner = np.nonzero(gain == np.amax(gain))\n",
    "    new_gain = np.zeros(gain.shape)\n",
    "    new_gain[winner] = 1\n",
    "    f,(ax1) = plt.subplots(1) # plot environment\n",
    "    gw.render_vec(V,ax1)\n",
    "    gw.render_sa_mtx(new_gain,ax1, over_im = True)\n",
    "    plt.show()\n",
    "    \n",
    "    gain_store[:,:,i] = gain\n",
    "    Qsa_store[:,:,i] = qag.Q_hat\n",
    "    V_store[:,i] = V\n",
    "    \n",
    "    # update \n",
    "    (s,a) = np.unravel_index(np.argmax(gain, axis=None), gain.shape)\n",
    "    qag.backup_Q(s,a,reset=True)\n",
    "\n",
    "#for i in range(7):\n",
    "    # get max backup\n",
    "#    (s,a) = np.unravel_index(np.argmax(gain, axis=None), gain.shape)\n",
    "    # apply backup\n",
    "#    qag.backup_Q(s,a,reset=True)\n",
    "\n",
    "    # compute gain and state values\n",
    "#    gain = qag.comp_gain()\n",
    "#    winner = np.nonzero(gain == np.amax(gain))\n",
    "#    new_gain = np.zeros(gain.shape)\n",
    "#    new_gain[winner] = 1\n",
    "#    V = np.max(qag.Q_hat,axis = 1)\n",
    "    #f,(ax1) = plt.subplots(1) # plot environment\n",
    "\n",
    "    #gw.render_vec(V,ax1)\n",
    "    #gw.render_sa_mtx(new_gain,ax1, over_im = True)\n",
    "\n",
    "    #plt.show() # it's in the wrong place\n",
    "\n"
   ]
  },
  {
   "cell_type": "code",
   "execution_count": null,
   "metadata": {},
   "outputs": [],
   "source": [
    "r = 0\n",
    "print(np.reshape(gain_store[:,0,r], walls.shape))\n",
    "print(np.reshape(gain_store[:,1,r], walls.shape))\n",
    "print(np.reshape(gain_store[:,2,r], walls.shape))\n",
    "print(np.reshape(gain_store[:,3,r], walls.shape))"
   ]
  },
  {
   "cell_type": "code",
   "execution_count": null,
   "metadata": {},
   "outputs": [],
   "source": [
    "gw.state_mtx"
   ]
  },
  {
   "cell_type": "code",
   "execution_count": null,
   "metadata": {},
   "outputs": [],
   "source": [
    "Qsa_store[17,:,3]\n",
    "qnew = np.array([-4062.50, -312.50, -312.50, 0.00])\n",
    "\n",
    "log_cp = qag.params['beta']*qnew - logsumexp(qag.params['beta']*qnew)\n",
    "real_choice_probs = np.exp(log_cp)\n",
    "real_choice_probs"
   ]
  },
  {
   "cell_type": "code",
   "execution_count": null,
   "metadata": {},
   "outputs": [],
   "source": [
    "pi = qag.comp_pi(Qsa_store[:,:,0])\n",
    "print(pi[17,:])\n",
    "pi = qag.comp_pi(Qsa_store[:,:,1])\n",
    "print(pi[17,:])\n",
    "pi = qag.comp_pi(Qsa_store[:,:,2])\n",
    "print(pi[17,:])\n",
    "pi = qag.comp_pi(Qsa_store[:,:,3])\n",
    "print(pi[17,:])"
   ]
  },
  {
   "cell_type": "code",
   "execution_count": null,
   "metadata": {},
   "outputs": [],
   "source": [
    "print(gain_store[17,:,0])\n",
    "print(gain_store[17,:,1])\n",
    "print(gain_store[17,:,2])\n",
    "print(gain_store[17,:,3])\n"
   ]
  },
  {
   "cell_type": "code",
   "execution_count": null,
   "metadata": {},
   "outputs": [],
   "source": []
  }
 ],
 "metadata": {
  "kernelspec": {
   "display_name": "Python 3",
   "language": "python",
   "name": "python3"
  },
  "language_info": {
   "codemirror_mode": {
    "name": "ipython",
    "version": 3
   },
   "file_extension": ".py",
   "mimetype": "text/x-python",
   "name": "python",
   "nbconvert_exporter": "python",
   "pygments_lexer": "ipython3",
   "version": "3.7.0"
  }
 },
 "nbformat": 4,
 "nbformat_minor": 2
}
