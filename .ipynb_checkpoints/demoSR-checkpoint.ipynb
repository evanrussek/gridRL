{
 "cells": [
  {
   "cell_type": "code",
   "execution_count": 1,
   "metadata": {},
   "outputs": [],
   "source": [
    "import numpy as np\n",
    "import numpy.random as nr\n",
    "import random\n",
    "#import itertools\n",
    "import scipy.misc\n",
    "\n",
    "import matplotlib\n",
    "import matplotlib.pyplot as plt\n",
    "from scipy.special import logsumexp\n",
    "\n",
    "#%matplotlib notebook\n",
    "#%matplotlib qt \n",
    "%matplotlib inline \n",
    "import time\n",
    "np.set_printoptions(formatter={'float': lambda x: \"{0:0.2f}\".format(x)})\n",
    "\n",
    "\n",
    "from grid_world_new import grid_world\n",
    "from q_agent_class import Qagent"
   ]
  },
  {
   "cell_type": "code",
   "execution_count": 2,
   "metadata": {},
   "outputs": [
    {
     "data": {
      "image/png": "[encoded data removed]",
      "text/plain": [
       "<Figure size 432x288 with 1 Axes>"
      ]
     },
     "metadata": {
      "needs_background": "light"
     },
     "output_type": "display_data"
    }
   ],
   "source": [
    "walls = np.array([[0,0,0,0,0,0,0,0,0],\n",
    "                 [0,0,0,0,0,0,0,0,0],\n",
    "                 [0,0,0,0,0,0,0,0,0],\n",
    "                 [0,0,0,0,0,0,0,0,0],\n",
    "                 [0,0,0,0,0,0,0,0,0],\n",
    "                 [0,0,0,0,0,0,0,0,0],\n",
    "                ])\n",
    "\n",
    "\n",
    "walls = np.array([[0,0,0,0,0,0,0,1,0],\n",
    "                 [0,0,1,0,0,0,0,1,0],\n",
    "                 [0,0,1,0,0,0,0,1,0],\n",
    "                 [0,0,1,0,0,0,0,1,0],\n",
    "                 [0,0,0,0,0,1,0,0,0],\n",
    "                 [0,0,0,0,0,0,0,0,0],\n",
    "                ])\n",
    "\n",
    "\n",
    "\n",
    "\n",
    "rewards = np.array(\n",
    "                [[0,0,0,0,0,0,0,0, 100],\n",
    "                 [0,0,0,0,0,0,0,0,0],\n",
    "                 [0,0,0,0,0,0,0,0,0],\n",
    "                 [0,0,0,0,0,0,0,0,0],\n",
    "                 [0,0,0,0,0,0,0,0,0],\n",
    "                 [0,0,0,0,0,0,0,0,0],\n",
    "                ])\n",
    "\n",
    "start_state = np.array([2,0])\n",
    "\n",
    "transition_noise = .25\n",
    "\n",
    "gw = grid_world(rewards, walls, start_state, transition_noise)\n",
    "f,(ax1) = plt.subplots(1) # plot environment\n",
    "gw.render(ax1)\n",
    "plt.show()"
   ]
  },
  {
   "cell_type": "code",
   "execution_count": 19,
   "metadata": {},
   "outputs": [],
   "source": [
    "Tsas = gw.make_Tsas()\n",
    "Rsa = gw.Rsa\n",
    "\n",
    "# make a Q agent starting with these\n",
    "params = {'beta': 50, 'alpha_q': 1, 'gamma': .9}\n",
    "n_states = int(np.size(walls))\n",
    "\n",
    "qag = Qagent(params, n_states, Tsas = Tsas, Rsa = Rsa, grid = True, wall_mtx = walls)"
   ]
  },
  {
   "cell_type": "code",
   "execution_count": 28,
   "metadata": {},
   "outputs": [
    {
     "data": {
      "image/png": "[encoded data removed]",
      "text/plain": [
       "<Figure size 432x288 with 1 Axes>"
      ]
     },
     "metadata": {
      "needs_background": "light"
     },
     "output_type": "display_data"
    }
   ],
   "source": [
    "# build the SR\n",
    "pol_mtx = qag.comp_pi() # first get the policy implied by the current value function # (just need any policy though)\n",
    "Tss = qag.comp_Tss(pol_mtx) # state - state transition matrix - this is just Tsas, marginalizing out the actions\n",
    "SR_mtx = qag.comp_SR(Tss) # build SR from this state-state matrix. \n",
    "# plot the SR\n",
    "f,(ax1) = plt.subplots(1) # plot environment\n",
    "\n",
    "s = 1 # choose a state to show...\n",
    "gw.render_vec(SR_mtx[gw.state,:], ax1)"
   ]
  }
 ],
 "metadata": {
  "kernelspec": {
   "display_name": "Python 3",
   "language": "python",
   "name": "python3"
  },
  "language_info": {
   "codemirror_mode": {
    "name": "ipython",
    "version": 3
   },
   "file_extension": ".py",
   "mimetype": "text/x-python",
   "name": "python",
   "nbconvert_exporter": "python",
   "pygments_lexer": "ipython3",
   "version": "3.7.0"
  }
 },
 "nbformat": 4,
 "nbformat_minor": 2
}
