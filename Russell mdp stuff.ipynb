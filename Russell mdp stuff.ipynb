{
 "cells": [
  {
   "cell_type": "code",
   "execution_count": 1,
   "metadata": {},
   "outputs": [],
   "source": [
    "import numpy as np\n",
    "import random\n",
    "import itertools\n",
    "import scipy.misc\n",
    "import matplotlib.pyplot as plt\n",
    "import pandas as pd\n"
   ]
  },
  {
   "cell_type": "markdown",
   "metadata": {},
   "source": [
    "what are the states\n",
    "A: U1 is -1.5 or 1.5, U2 is 0.25 or 1.75\n",
    "this can transition to\n",
    "\n",
    "B: U1 is 1.5, U2 is 0.25 or 1.75\n",
    "\n",
    "C: U1 is -1.5, U2 is 0.25 or 1.75\n",
    "\n",
    "D: U1 is -1.5 or 1.5, U2 is 0.25\n",
    "\n",
    "E: U1 is -1.5 or 1.5, U2 is 1.75\n",
    "    \n",
    "F: U1 is -1.5, U2 is 0.25 \n",
    "\n",
    "G: U1 is 1.5, U2 is 0.25 \n",
    "\n",
    "H: U1 is 1.5, U2 is 1.75 \n",
    "\n",
    "I: U1 is -1.5, U2 is 1.75 \n",
    "\n",
    "\n"
   ]
  },
  {
   "cell_type": "code",
   "execution_count": 2,
   "metadata": {},
   "outputs": [],
   "source": [
    "const = 1.5;\n",
    "U1_pos = np.array([-1.5,1.5])\n",
    "U2_pos = np.array([0.25,1.75])\n",
    "U_3 = const;\n",
    "\n",
    "np.max([.1.5, ])\n",
    "\n",
    "\n",
    "\n",
    "\n",
    "\n",
    "val_U1 = \n"
   ]
  },
  {
   "cell_type": "code",
   "execution_count": null,
   "metadata": {},
   "outputs": [],
   "source": []
  }
 ],
 "metadata": {
  "kernelspec": {
   "display_name": "Python 3",
   "language": "python",
   "name": "python3"
  },
  "language_info": {
   "codemirror_mode": {
    "name": "ipython",
    "version": 3
   },
   "file_extension": ".py",
   "mimetype": "text/x-python",
   "name": "python",
   "nbconvert_exporter": "python",
   "pygments_lexer": "ipython3",
   "version": "3.7.0"
  }
 },
 "nbformat": 4,
 "nbformat_minor": 2
}
