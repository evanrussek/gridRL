{
 "cells": [
  {
   "cell_type": "code",
   "execution_count": 1,
   "metadata": {},
   "outputs": [],
   "source": [
    "import numpy as np\n",
    "import random\n",
    "import itertools\n",
    "import scipy.misc\n",
    "import matplotlib.pyplot as plt\n",
    "import pandas as pd\n"
   ]
  },
  {
   "cell_type": "code",
   "execution_count": 86,
   "metadata": {},
   "outputs": [
    {
     "data": {
      "text/plain": [
       "Text(0.5,0,'Utility of fixed alternative')"
      ]
     },
     "execution_count": 86,
     "metadata": {},
     "output_type": "execute_result"
    },
    {
     "data": {
      "image/png": "[encoded data removed]",
      "text/plain": [
       "<Figure size 432x288 with 1 Axes>"
      ]
     },
     "metadata": {
      "needs_background": "light"
     },
     "output_type": "display_data"
    }
   ],
   "source": [
    "def comp_choice_vals(const):\n",
    "\n",
    "    # possible values of U1 and U2\n",
    "    U1_pos = np.array([-1.5,1.5])\n",
    "    U2_pos = np.array([0.25,1.75])\n",
    "\n",
    "    # different states corresopnd to differnet probability distributions over values of U1 and U2\n",
    "    U1_states = np.array([[.5,.5], [1,0], [0,1]])\n",
    "    U2_states = np.array([[.5,.5], [1,0], [0,1]])\n",
    "\n",
    "    # probability of transitioning from row to column for U1 under observation 1, or U2 under observation 2\n",
    "    obs_transition = np.array([[0, .5, .5], [0,1,0], [0,0,1]])\n",
    "    cost = -.2\n",
    "\n",
    "    # initialize state and action values\n",
    "    \n",
    "    # state 1 value x state 2 values\n",
    "    state_vals = np.zeros([3,3])\n",
    "    #choice (stop,obs1,obs2)xs1xs2 values\n",
    "    choice_vals = np.zeros([3,3,3])\n",
    "\n",
    "    error = 100000\n",
    "    j = 0\n",
    "    while error > .005:\n",
    "        j = j+1\n",
    "        old_state_vals = state_vals.copy()\n",
    "\n",
    "        # single loop of value iteration\n",
    "        for s1 in np.arange(3):\n",
    "            for s2 in np.arange(3):\n",
    "                u_choose1 = np.dot(U1_states[s1],U1_pos)\n",
    "                u_choose2 = np.dot(U1_states[s2],U2_pos)\n",
    "                u_stop = np.max([u_choose1, u_choose2, const])\n",
    "                choice_vals[0,s1,s2] = u_stop\n",
    "\n",
    "                # value of observing 1 in this state\n",
    "                u_obs1 = cost + np.dot(obs_transition[s1],state_vals[:,s2])\n",
    "                choice_vals[1,s1,s2] = u_obs1\n",
    "                u_obs2 = cost + np.dot(obs_transition[s2],state_vals[s1,:])\n",
    "                choice_vals[2,s1,s2] = u_obs2\n",
    "                \n",
    "                state_vals[s1,s2] = np.max(choice_vals[:,s1,s2])\n",
    "\n",
    "        error = np.max(state_vals - old_state_vals)\n",
    "        \n",
    "    return choice_vals\n",
    "\n",
    "const_vals = np.arange(-2,2,.1)\n",
    "choice_val_store = np.zeros([3,len(const_vals)])\n",
    "for i in np.arange(len(const_vals)):\n",
    "    const = const_vals[i]\n",
    "    choice_vals = comp_choice_vals(const)\n",
    "    choice_val_store[1:,i] = choice_vals[1:,0,0] - choice_vals[0,0,0]\n",
    "    \n",
    "plt.plot(const_vals,choice_val_store[:,:].T)\n",
    "plt.legend(('stop','observe 1', 'observe 2'))\n",
    "plt.ylabel('Utility relative to stopping')\n",
    "plt.xlabel('Utility of fixed alternative')\n",
    "\n"
   ]
  },
  {
   "cell_type": "code",
   "execution_count": null,
   "metadata": {},
   "outputs": [],
   "source": []
  },
  {
   "cell_type": "code",
   "execution_count": null,
   "metadata": {},
   "outputs": [],
   "source": []
  }
 ],
 "metadata": {
  "kernelspec": {
   "display_name": "Python 3",
   "language": "python",
   "name": "python3"
  },
  "language_info": {
   "codemirror_mode": {
    "name": "ipython",
    "version": 3
   },
   "file_extension": ".py",
   "mimetype": "text/x-python",
   "name": "python",
   "nbconvert_exporter": "python",
   "pygments_lexer": "ipython3",
   "version": "3.7.0"
  }
 },
 "nbformat": 4,
 "nbformat_minor": 2
}
