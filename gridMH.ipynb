{
 "cells": [
  {
   "cell_type": "code",
   "execution_count": 1,
   "metadata": {
    "collapsed": false
   },
   "outputs": [],
   "source": [
    "import numpy as np\n",
    "import numpy.random as nr\n",
    "import random\n",
    "#import itertools\n",
    "import scipy.misc\n",
    "\n",
    "import matplotlib\n",
    "#matplotlib.use('qt5agg')\n",
    "import matplotlib.pyplot as plt\n",
    "\n",
    "#%matplotlib notebook\n",
    "%matplotlib qt \n",
    "#%matplotlib inline \n",
    "import time\n",
    "\n",
    "# gridworldclass that we made\n",
    "from gridworldclass import gameEnv\n",
    "from IPython.display import clear_output\n",
    "from scipy.special import gammaln\n",
    "import mhfuncs as mh\n",
    "\n"
   ]
  },
  {
   "cell_type": "code",
   "execution_count": null,
   "metadata": {
    "collapsed": false
   },
   "outputs": [],
   "source": [
    "# build environments\n",
    "wall_x = np.array([]);\n",
    "wall_y = np.array([]);\n",
    "wall_loc = np.array([wall_y, wall_x]).T\n",
    "wall_states = np.zeros(wall_loc.shape[0])\n",
    "\n",
    "nenvs = 10\n",
    "envs = []\n",
    "for i in np.arange(nenvs):\n",
    "    #gameEnv(nrows,ncols,reward_loc, reward_mag,wall_loc, start_pos)\n",
    "    nrows = 7\n",
    "    ncols = 5\n",
    "    r_col = np.random.randint(0,ncols,1)[0]\n",
    "    s_col = np.random.randint(0,ncols,1)[0]\n",
    "    reward_loc = np.array([[0,r_col]])\n",
    "    reward_mag = np.array([1])\n",
    "    start_pos = np.array([nrows-1,s_col])\n",
    "    envs1 = gameEnv(nrows,ncols,reward_loc, reward_mag,wall_loc, start_pos)\n",
    "    envs.append(envs1)\n",
    "\n",
    "nstates = envs[0].nrows*envs[0].ncols\n",
    "\n",
    "\n",
    "\n",
    "#plt.close('all')\n",
    "#f,ax = plt.subplots(1)\n",
    "#env.render(ax)\n"
   ]
  },
  {
   "cell_type": "code",
   "execution_count": null,
   "metadata": {
    "collapsed": false
   },
   "outputs": [],
   "source": [
    "nruns = 100\n",
    "nsteps_per_env = 100\n",
    "nsteps_per_run = nsteps_per_env*nenvs\n",
    "which_env_list = np.repeat(np.arange(nenvs),nsteps_per_env)\n",
    "\n",
    "\n",
    "vt_run = np.zeros([nruns,nsteps_per_run])\n",
    "pt_run = np.zeros([nruns,nsteps_per_run, nstates])\n",
    "tt_run = np.zeros([nruns,nsteps_per_run,4])\n",
    "\n",
    "for run in np.arange(nruns):\n",
    "    theta0 = mh.sample_theta()\n",
    "    pol_vec0 = mh.sample_policy(theta0,nstates)\n",
    "    \n",
    "    for j in np.arange(nenvs):\n",
    "        (this_env_pol_trace,this_env_theta_trace,this_env_v_trace) = mh.run_nsteps(pol_vec0,theta0,envs[j],nsteps_per_env)\n",
    "        pol_vec0 = this_env_pol_trace[-1]\n",
    "        \n",
    "        env_idx = (which_env_list == j)\n",
    "        vt_run[run,env_idx] = this_env_v_trace\n",
    "        pt_run[run,env_idx,:] = this_env_pol_trace\n",
    "        tt_run[run,env_idx,:] = this_env_theta_trace"
   ]
  },
  {
   "cell_type": "code",
   "execution_count": 24,
   "metadata": {
    "collapsed": false
   },
   "outputs": [
    {
     "data": {
      "text/plain": [
       "[<matplotlib.lines.Line2D at 0x1256176a0>]"
      ]
     },
     "execution_count": 24,
     "metadata": {},
     "output_type": "execute_result"
    }
   ],
   "source": [
    "plt.close('all')\n",
    "plt.plot(tt_run[0,:,3])\n"
   ]
  },
  {
   "cell_type": "code",
   "execution_count": 6,
   "metadata": {
    "collapsed": false
   },
   "outputs": [],
   "source": [
    "theta0 = mh.sample_theta()\n",
    "pol_vec0 = mh.sample_policy(theta0,nstates)"
   ]
  },
  {
   "cell_type": "code",
   "execution_count": 7,
   "metadata": {
    "collapsed": false
   },
   "outputs": [
    {
     "data": {
      "text/plain": [
       "array([ 0.33477563,  0.1545849 ,  0.29953488,  0.21110458])"
      ]
     },
     "execution_count": 7,
     "metadata": {},
     "output_type": "execute_result"
    }
   ],
   "source": [
    "theta0"
   ]
  },
  {
   "cell_type": "code",
   "execution_count": 8,
   "metadata": {
    "collapsed": false
   },
   "outputs": [
    {
     "data": {
      "text/plain": [
       "array([2, 3, 3, 0, 1, 3, 3, 0, 0, 1, 1, 2, 2, 1, 0, 2, 2, 0, 0, 3, 3, 2, 2,\n",
       "       3, 2, 1, 0, 3, 3, 0, 2, 2, 0, 1, 0])"
      ]
     },
     "execution_count": 8,
     "metadata": {},
     "output_type": "execute_result"
    }
   ],
   "source": [
    "pol_vec0"
   ]
  },
  {
   "cell_type": "code",
   "execution_count": null,
   "metadata": {
    "collapsed": false
   },
   "outputs": [],
   "source": [
    "theta0 = mh.prop_theta(np.array([1,1,1,1]))\n",
    "pol_vec0 = nr.choice(4,p =theta0, size = nstates)"
   ]
  },
  {
   "cell_type": "code",
   "execution_count": null,
   "metadata": {
    "collapsed": false
   },
   "outputs": [],
   "source": [
    "nruns = 20\n",
    "nsteps = 10\n",
    "\n",
    "vt_run = np.zeros([nruns,nsteps])\n",
    "pt_run = np.zeros([nruns,nsteps, nstates])\n",
    "tt_run = np.zeros([nruns,nsteps,4])\n",
    "\n",
    "for run in np.arange(nruns):\n",
    "    (pol_trace,theta_trace,v_trace) = mh.run_nsteps(pol_vec0,theta0,env,nsteps)\n",
    "    vt_run[run,:] = v_trace\n",
    "    pt_run[run,:,:] = pol_trace\n",
    "    tt_run[run,:,:] = theta_trace\n"
   ]
  },
  {
   "cell_type": "code",
   "execution_count": null,
   "metadata": {
    "collapsed": false
   },
   "outputs": [],
   "source": [
    "tt_run"
   ]
  },
  {
   "cell_type": "code",
   "execution_count": null,
   "metadata": {
    "collapsed": true
   },
   "outputs": [],
   "source": []
  }
 ],
 "metadata": {
  "anaconda-cloud": {},
  "kernelspec": {
   "display_name": "Python [conda root]",
   "language": "python",
   "name": "conda-root-py"
  },
  "language_info": {
   "codemirror_mode": {
    "name": "ipython",
    "version": 3
   },
   "file_extension": ".py",
   "mimetype": "text/x-python",
   "name": "python",
   "nbconvert_exporter": "python",
   "pygments_lexer": "ipython3",
   "version": "3.5.5"
  }
 },
 "nbformat": 4,
 "nbformat_minor": 1
}
