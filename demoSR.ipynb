{
 "cells": [
  {
   "cell_type": "code",
   "execution_count": 2,
   "metadata": {},
   "outputs": [],
   "source": [
    "import numpy as np\n",
    "import numpy.random as nr\n",
    "import random\n",
    "#import itertools\n",
    "import scipy.misc\n",
    "\n",
    "import matplotlib\n",
    "import matplotlib.pyplot as plt\n",
    "from scipy.special import logsumexp\n",
    "\n",
    "#%matplotlib notebook\n",
    "#%matplotlib qt \n",
    "%matplotlib inline \n",
    "import time\n",
    "np.set_printoptions(formatter={'float': lambda x: \"{0:0.2f}\".format(x)})\n",
    "\n",
    "\n",
    "from grid_world_new import grid_world\n",
    "from q_agent_class import Qagent"
   ]
  },
  {
   "cell_type": "code",
   "execution_count": 2,
   "metadata": {},
   "outputs": [
    {
     "data": {
      "text/plain": [
       "array([[1, 0],\n",
       "       [0, 2]])"
      ]
     },
     "execution_count": 2,
     "metadata": {},
     "output_type": "execute_result"
    }
   ],
   "source": [
    "np.diag(np.array([1,2]))"
   ]
  },
  {
   "cell_type": "code",
   "execution_count": 3,
   "metadata": {},
   "outputs": [
    {
     "data": {
      "image/png": "[encoded data removed]",
      "text/plain": [
       "<Figure size 432x288 with 1 Axes>"
      ]
     },
     "metadata": {
      "needs_background": "light"
     },
     "output_type": "display_data"
    }
   ],
   "source": [
    "walls = np.array([[0,0,0,0,0,0,0,0,0],\n",
    "                 [0,0,0,0,0,0,0,0,0],\n",
    "                 [0,0,0,0,0,0,0,0,0],\n",
    "                 [0,0,0,0,0,0,0,0,0],\n",
    "                 [0,0,0,0,0,0,0,0,0],\n",
    "                 [0,0,0,0,0,0,0,0,0],\n",
    "                ])\n",
    "\n",
    "\n",
    "walls = np.array([[0,0,0,0,0,0,0,1,0],\n",
    "                 [0,0,1,0,0,0,0,1,0],\n",
    "                 [0,0,1,0,0,0,0,1,0],\n",
    "                 [0,0,1,0,0,0,0,1,0],\n",
    "                 [0,0,0,0,0,1,0,0,0],\n",
    "                 [0,0,0,0,0,0,0,0,0],\n",
    "                ])\n",
    "\n",
    "\n",
    "\n",
    "\n",
    "rewards = np.array(\n",
    "                [[-1,-1,-1,-1,-1,-1,-1,-1, -1],\n",
    "                 [-1,-1,-1,-1,-1,-1,-1,-1, -1],\n",
    "                 [-1,-1,-1,-1,-1,-1,-1,-1, -1],\n",
    "                 [-1,-1,-1,-1,-1,-1,-1,-1, -1],\n",
    "                 [-1,-1,-1,-1,-1,-1,-1,-1, -1],\n",
    "                 [-1,-1,-1,-1,-1,-1,-1,-1, -1],\n",
    "                ])\n",
    "\n",
    "\n",
    "\n",
    "\n",
    "rewards = -1*.01*rewards\n",
    "#walls = np.array([[0,0,0,0],\n",
    " #                [0,0,1,0],\n",
    " #                [0,0,1,0],\n",
    " #                [0,0,1,0],\n",
    " #               ])\n",
    "#rewards =  np.array([[-1,-1,-1,-1],\n",
    "#                 [-1,-1,0,-1],\n",
    "#                 [-1,-1,0,-1],\n",
    "#                 [-1,-1,0,-1],\n",
    "#                ])\n",
    "\n",
    "walls = np.zeros((50,50))\n",
    "rewards = -.01*np.ones((50,50))\n",
    "\n",
    "\n",
    "start_state = np.array([2,0])\n",
    "\n",
    "transition_noise = 0\n",
    "\n",
    "gw = grid_world(rewards, walls, start_state, transition_noise)\n",
    "f,(ax1) = plt.subplots(1) # plot environment\n",
    "gw.render(ax1)\n",
    "plt.show()"
   ]
  },
  {
   "cell_type": "code",
   "execution_count": 5,
   "metadata": {},
   "outputs": [],
   "source": [
    "Tsas = gw.make_Tsas()\n",
    "Rsa = gw.Rsa\n",
    "\n",
    "# make a Q agent starting with these\n",
    "params = {'beta': 50, 'alpha_q': 1, 'gamma': .9}\n",
    "n_states = int(np.size(walls))\n",
    "\n",
    "qag = Qagent(params, n_states, Tsas = Tsas, Rsa = Rsa, grid = True, wall_mtx = walls)"
   ]
  },
  {
   "cell_type": "code",
   "execution_count": 4,
   "metadata": {},
   "outputs": [
    {
     "ename": "NameError",
     "evalue": "name 'qag' is not defined",
     "output_type": "error",
     "traceback": [
      "\u001b[0;31m---------------------------------------------------------------------------\u001b[0m",
      "\u001b[0;31mNameError\u001b[0m                                 Traceback (most recent call last)",
      "\u001b[0;32m<ipython-input-4-a0802af9d31e>\u001b[0m in \u001b[0;36m<module>\u001b[0;34m\u001b[0m\n\u001b[1;32m      1\u001b[0m \u001b[0;31m# build the DR\u001b[0m\u001b[0;34m\u001b[0m\u001b[0;34m\u001b[0m\u001b[0;34m\u001b[0m\u001b[0m\n\u001b[0;32m----> 2\u001b[0;31m \u001b[0mpol_mtx\u001b[0m \u001b[0;34m=\u001b[0m \u001b[0mqag\u001b[0m\u001b[0;34m.\u001b[0m\u001b[0mcomp_pi\u001b[0m\u001b[0;34m(\u001b[0m\u001b[0;34m)\u001b[0m \u001b[0;31m# first get the policy implied by the current value function # (just need any policy though)\u001b[0m\u001b[0;34m\u001b[0m\u001b[0;34m\u001b[0m\u001b[0m\n\u001b[0m\u001b[1;32m      3\u001b[0m \u001b[0mTss\u001b[0m \u001b[0;34m=\u001b[0m \u001b[0mqag\u001b[0m\u001b[0;34m.\u001b[0m\u001b[0mcomp_Tss\u001b[0m\u001b[0;34m(\u001b[0m\u001b[0mpol_mtx\u001b[0m\u001b[0;34m)\u001b[0m \u001b[0;31m# state - state transition matrix - this is just Tsas, marginalizing out the actions\u001b[0m\u001b[0;34m\u001b[0m\u001b[0;34m\u001b[0m\u001b[0m\n\u001b[1;32m      4\u001b[0m \u001b[0mDR_mtx\u001b[0m \u001b[0;34m=\u001b[0m \u001b[0mqag\u001b[0m\u001b[0;34m.\u001b[0m\u001b[0mcomp_DR\u001b[0m\u001b[0;34m(\u001b[0m\u001b[0mTss\u001b[0m\u001b[0;34m,\u001b[0m\u001b[0mpol_mtx\u001b[0m\u001b[0;34m)\u001b[0m \u001b[0;31m# build SR from this state-state matrix.\u001b[0m\u001b[0;34m\u001b[0m\u001b[0;34m\u001b[0m\u001b[0m\n\u001b[1;32m      5\u001b[0m \u001b[0;31m# plot the SR\u001b[0m\u001b[0;34m\u001b[0m\u001b[0;34m\u001b[0m\u001b[0;34m\u001b[0m\u001b[0m\n",
      "\u001b[0;31mNameError\u001b[0m: name 'qag' is not defined"
     ]
    }
   ],
   "source": [
    "# build the DR\n",
    "pol_mtx = qag.comp_pi() # first get the policy implied by the current value function # (just need any policy though)\n",
    "Tss = qag.comp_Tss(pol_mtx) # state - state transition matrix - this is just Tsas, marginalizing out the actions\n",
    "DR_mtx = qag.comp_DR(Tss,pol_mtx) # build SR from this state-state matrix. \n",
    "# plot the SR\n",
    "f,(ax1) = plt.subplots(1) # plot environment\n",
    "\n",
    "s = 1 # choose a state to show...\n",
    "gw.render_vec(DR_mtx[325,:], ax1)"
   ]
  },
  {
   "cell_type": "code",
   "execution_count": 8,
   "metadata": {},
   "outputs": [
    {
     "data": {
      "image/png": "[encoded data removed]",
      "text/plain": [
       "<Figure size 432x288 with 1 Axes>"
      ]
     },
     "metadata": {
      "needs_background": "light"
     },
     "output_type": "display_data"
    }
   ],
   "source": [
    "# build the DR\n",
    "pol_mtx = qag.comp_pi() # first get the policy implied by the current value function # (just need any policy though)\n",
    "Tss = qag.comp_Tss(pol_mtx) # state - state transition matrix - this is just Tsas, marginalizing out the actions\n",
    "DR_mtx = qag.comp_DR(Tss,pol_mtx) # build SR from this state-state matrix. \n",
    "# plot the SR\n",
    "f,(ax1) = plt.subplots(1) # plot environment\n",
    "\n",
    "s = 1 # choose a state to show...\n",
    "gw.render_vec(DR_mtx[:,535].T, ax1)"
   ]
  },
  {
   "cell_type": "code",
   "execution_count": 9,
   "metadata": {},
   "outputs": [
    {
     "data": {
      "image/png": "[encoded data removed]",
      "text/plain": [
       "<Figure size 432x288 with 1 Axes>"
      ]
     },
     "metadata": {
      "needs_background": "light"
     },
     "output_type": "display_data"
    }
   ],
   "source": [
    "# build the SR\n",
    "pol_mtx = qag.comp_pi() # first get the policy implied by the current value function # (just need any policy though)\n",
    "Tss = qag.comp_Tss(pol_mtx) # state - state transition matrix - this is just Tsas, marginalizing out the actions\n",
    "SR_mtx = qag.comp_SR(Tss) # build SR from this state-state matrix. \n",
    "# plot the SR\n",
    "f,(ax1) = plt.subplots(1) # plot environment\n",
    "\n",
    "s = 1 # choose a state to show...\n",
    "gw.render_vec(SR_mtx[:,535].T, ax1)"
   ]
  },
  {
   "cell_type": "code",
   "execution_count": 12,
   "metadata": {},
   "outputs": [],
   "source": [
    "def signed_amp(x):\n",
    "  \"\"\"Return sign(x) * amp(x), where amp is amplitude of complex number.\"\"\"\n",
    "  return np.sign(np.real(x)) * np.sqrt(np.real(x) ** 2 + np.imag(x) ** 2)\n",
    "\n",
    "def eig(x, order=\"descend\", sortby=signed_amp):\n",
    "  \"\"\"Computes eigenvectors and returns them in eigenvalue order.\n",
    "  Args:\n",
    "    x: square matrix to eigendecompose\n",
    "    order: \"descend\" or \"ascend\" to specify in which order to sort eigenvalues\n",
    "      (default=\"descend\")\n",
    "    sortby: function transforms a list of (possibly complex, possibly mixed\n",
    "      sign) into real-valued scalars that can be sorted without ambiguity\n",
    "      (default=signed_amp)\n",
    "  Returns:\n",
    "    evecs: array of eigenvectors\n",
    "    evals: matrix with eigenvector columns\n",
    "  \"\"\"\n",
    "  assert x.shape[0] == x.shape[1]\n",
    "  n = x.shape[0]\n",
    "  evals, evecs = np.linalg.eig(x)\n",
    "\n",
    "  ind_order = range(n)\n",
    "  ind_order = [x for _, x in sorted(zip(sortby(evals), ind_order))]\n",
    "  if order == \"descend\":\n",
    "    ind_order = ind_order[::-1]\n",
    "  evals = evals[ind_order]\n",
    "  evecs = evecs[:, ind_order]\n",
    "  return evecs, evals"
   ]
  },
  {
   "cell_type": "code",
   "execution_count": 13,
   "metadata": {},
   "outputs": [],
   "source": [
    "(evecs,evals) = eig(DR_mtx)"
   ]
  },
  {
   "cell_type": "code",
   "execution_count": 1,
   "metadata": {},
   "outputs": [
    {
     "ename": "NameError",
     "evalue": "name 'signed_amp' is not defined",
     "output_type": "error",
     "traceback": [
      "\u001b[0;31m---------------------------------------------------------------------------\u001b[0m",
      "\u001b[0;31mNameError\u001b[0m                                 Traceback (most recent call last)",
      "\u001b[0;32m<ipython-input-1-7820ede20911>\u001b[0m in \u001b[0;36m<module>\u001b[0;34m\u001b[0m\n\u001b[0;32m----> 1\u001b[0;31m \u001b[0meig_sa\u001b[0m \u001b[0;34m=\u001b[0m \u001b[0msigned_amp\u001b[0m\u001b[0;34m(\u001b[0m\u001b[0mevecs\u001b[0m\u001b[0;34m)\u001b[0m\u001b[0;34m\u001b[0m\u001b[0;34m\u001b[0m\u001b[0m\n\u001b[0m\u001b[1;32m      2\u001b[0m \u001b[0mf\u001b[0m\u001b[0;34m,\u001b[0m\u001b[0;34m(\u001b[0m\u001b[0max1\u001b[0m\u001b[0;34m)\u001b[0m \u001b[0;34m=\u001b[0m \u001b[0mplt\u001b[0m\u001b[0;34m.\u001b[0m\u001b[0msubplots\u001b[0m\u001b[0;34m(\u001b[0m\u001b[0;36m1\u001b[0m\u001b[0;34m)\u001b[0m \u001b[0;31m# plot environment\u001b[0m\u001b[0;34m\u001b[0m\u001b[0;34m\u001b[0m\u001b[0m\n\u001b[1;32m      3\u001b[0m \u001b[0mgw\u001b[0m\u001b[0;34m.\u001b[0m\u001b[0mrender_vec\u001b[0m\u001b[0;34m(\u001b[0m\u001b[0meig_sa\u001b[0m\u001b[0;34m[\u001b[0m\u001b[0;34m:\u001b[0m\u001b[0;34m,\u001b[0m\u001b[0;36m15\u001b[0m\u001b[0;34m]\u001b[0m\u001b[0;34m,\u001b[0m \u001b[0max1\u001b[0m\u001b[0;34m)\u001b[0m\u001b[0;34m\u001b[0m\u001b[0;34m\u001b[0m\u001b[0m\n",
      "\u001b[0;31mNameError\u001b[0m: name 'signed_amp' is not defined"
     ]
    }
   ],
   "source": [
    "eig_sa = signed_amp(evecs)\n",
    "f,(ax1) = plt.subplots(1) # plot environment\n",
    "gw.render_vec(eig_sa[:,15], ax1)"
   ]
  },
  {
   "cell_type": "code",
   "execution_count": 70,
   "metadata": {},
   "outputs": [
    {
     "data": {
      "text/plain": [
       "(2500, 2500)"
      ]
     },
     "execution_count": 70,
     "metadata": {},
     "output_type": "execute_result"
    }
   ],
   "source": [
    "eig_sa.shape"
   ]
  },
  {
   "cell_type": "code",
   "execution_count": 34,
   "metadata": {},
   "outputs": [
    {
     "data": {
      "text/plain": [
       "array([[-0.02      +0.j,  0.03996053+0.j, -0.03998026+0.j, ...,\n",
       "        -0.00413082+0.j, -0.00578082+0.j, -0.00556136+0.j],\n",
       "       [-0.02      +0.j,  0.03980283+0.j, -0.03990137+0.j, ...,\n",
       "        -0.00166824+0.j, -0.01730758+0.j, -0.01581295+0.j],\n",
       "       [-0.02      +0.j,  0.03948804+0.j, -0.0397439 +0.j, ...,\n",
       "         0.02946982+0.j,  0.04462831+0.j,  0.04264001+0.j],\n",
       "       ...,\n",
       "       [-0.02      +0.j,  0.03948804+0.j,  0.0397439 +0.j, ...,\n",
       "         0.02946982+0.j,  0.04462831+0.j,  0.04264001+0.j],\n",
       "       [-0.02      +0.j,  0.03980283+0.j,  0.03990137+0.j, ...,\n",
       "        -0.00166824+0.j, -0.01730758+0.j, -0.01581295+0.j],\n",
       "       [-0.02      +0.j,  0.03996053+0.j,  0.03998026+0.j, ...,\n",
       "        -0.00413082+0.j, -0.00578082+0.j, -0.00556136+0.j]])"
      ]
     },
     "execution_count": 34,
     "metadata": {},
     "output_type": "execute_result"
    }
   ],
   "source": [
    "v"
   ]
  },
  {
   "cell_type": "code",
   "execution_count": null,
   "metadata": {},
   "outputs": [],
   "source": []
  },
  {
   "cell_type": "code",
   "execution_count": 36,
   "metadata": {},
   "outputs": [
    {
     "data": {
      "text/plain": [
       "array([[3.32, 1.66, 0.89, ..., 0.00, 0.00, 0.00],\n",
       "       [1.66, 2.55, 1.27, ..., 0.00, 0.00, 0.00],\n",
       "       [0.89, 1.27, 2.34, ..., 0.00, 0.00, 0.00],\n",
       "       ...,\n",
       "       [0.00, 0.00, 0.00, ..., 2.34, 1.27, 0.89],\n",
       "       [0.00, 0.00, 0.00, ..., 1.27, 2.55, 1.66],\n",
       "       [0.00, 0.00, 0.00, ..., 0.89, 1.66, 3.32]])"
      ]
     },
     "execution_count": 36,
     "metadata": {},
     "output_type": "execute_result"
    }
   ],
   "source": [
    "DR_mtx"
   ]
  },
  {
   "cell_type": "code",
   "execution_count": null,
   "metadata": {},
   "outputs": [],
   "source": []
  },
  {
   "cell_type": "code",
   "execution_count": null,
   "metadata": {},
   "outputs": [],
   "source": []
  },
  {
   "cell_type": "code",
   "execution_count": null,
   "metadata": {},
   "outputs": [],
   "source": []
  }
 ],
 "metadata": {
  "kernelspec": {
   "display_name": "Python 3",
   "language": "python",
   "name": "python3"
  },
  "language_info": {
   "codemirror_mode": {
    "name": "ipython",
    "version": 3
   },
   "file_extension": ".py",
   "mimetype": "text/x-python",
   "name": "python",
   "nbconvert_exporter": "python",
   "pygments_lexer": "ipython3",
   "version": "3.7.4"
  }
 },
 "nbformat": 4,
 "nbformat_minor": 4
}
