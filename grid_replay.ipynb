{
 "cells": [
  {
   "cell_type": "code",
   "execution_count": 1,
   "metadata": {},
   "outputs": [],
   "source": [
    "import numpy as np\n",
    "import random\n",
    "#import itertools\n",
    "import scipy.misc\n",
    "\n",
    "import matplotlib\n",
    "#matplotlib.use('qt5agg')\n",
    "import matplotlib.pyplot as plt\n",
    "\n",
    "#%matplotlib notebook\n",
    "%matplotlib qt \n",
    "#%matplotlib inline \n",
    "import time"
   ]
  },
  {
   "cell_type": "code",
   "execution_count": 16,
   "metadata": {},
   "outputs": [],
   "source": [
    "walls = np.array([[0,0,0,0,0,0,0,1,0],\n",
    "                 [0,1,0,0,0,0,0,1,0],\n",
    "                 [0,1,0,0,0,0,0,1,0],\n",
    "                 [0,1,0,0,0,0,0,1,0],\n",
    "                 [0,0,0,0,0,1,0,0,0],\n",
    "                 [0,0,0,0,0,0,0,0,0],\n",
    "                ])\n",
    "\n",
    "rewards = np.array(\n",
    "                [[0,0,0,0,0,0,0,0,1],\n",
    "                 [0,0,0,0,0,0,-1,0,0],\n",
    "                 [0,0,0,0,0,0,0,0,0],\n",
    "                 [0,0,0,0,0,0,0,0,0],\n",
    "                 [0,0,0,0,0,0,0,0,0],\n",
    "                 [0,0,0,0,0,0,0,0,0],\n",
    "                ])\n",
    "\n",
    "start_state = np.zeros([0,2])"
   ]
  },
  {
   "cell_type": "code",
   "execution_count": 17,
   "metadata": {},
   "outputs": [
    {
     "data": {
      "text/plain": [
       "9"
      ]
     },
     "execution_count": 17,
     "metadata": {},
     "output_type": "execute_result"
    }
   ],
   "source": [
    "rewards.shape[1]"
   ]
  },
  {
   "cell_type": "code",
   "execution_count": 25,
   "metadata": {},
   "outputs": [
    {
     "data": {
      "text/plain": [
       "(0, 8)"
      ]
     },
     "execution_count": 25,
     "metadata": {},
     "output_type": "execute_result"
    }
   ],
   "source": [
    "np.nonzero(rewards)[0][0], np.nonzero(rewards)[1][0], "
   ]
  },
  {
   "cell_type": "code",
   "execution_count": 32,
   "metadata": {},
   "outputs": [],
   "source": [
    "nz_rewards = np.nonzero(rewards)"
   ]
  },
  {
   "cell_type": "code",
   "execution_count": 39,
   "metadata": {},
   "outputs": [],
   "source": [
    "(r,c) = nz_rewards"
   ]
  },
  {
   "cell_type": "code",
   "execution_count": 40,
   "metadata": {},
   "outputs": [
    {
     "data": {
      "text/plain": [
       "array([0, 1], dtype=int64)"
      ]
     },
     "execution_count": 40,
     "metadata": {},
     "output_type": "execute_result"
    }
   ],
   "source": [
    "r"
   ]
  },
  {
   "cell_type": "code",
   "execution_count": null,
   "metadata": {},
   "outputs": [],
   "source": []
  }
 ],
 "metadata": {
  "kernelspec": {
   "display_name": "Python 3",
   "language": "python",
   "name": "python3"
  },
  "language_info": {
   "codemirror_mode": {
    "name": "ipython",
    "version": 3
   },
   "file_extension": ".py",
   "mimetype": "text/x-python",
   "name": "python",
   "nbconvert_exporter": "python",
   "pygments_lexer": "ipython3",
   "version": "3.7.0"
  }
 },
 "nbformat": 4,
 "nbformat_minor": 2
}
